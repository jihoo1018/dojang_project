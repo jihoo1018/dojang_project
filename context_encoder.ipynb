{
  "nbformat": 4,
  "nbformat_minor": 0,
  "metadata": {
    "colab": {
      "provenance": [],
      "mount_file_id": "1p6iuQZf7MjG580Em1J91HGFRbb6IWbHb",
      "authorship_tag": "ABX9TyNErfymHUNEQaXV4zK7MtMY",
      "include_colab_link": true
    },
    "kernelspec": {
      "name": "python3",
      "display_name": "Python 3"
    },
    "language_info": {
      "name": "python"
    }
  },
  "cells": [
    {
      "cell_type": "markdown",
      "metadata": {
        "id": "view-in-github",
        "colab_type": "text"
      },
      "source": [
        "<a href=\"https://colab.research.google.com/github/jihoo1018/dojang_project/blob/main/context_encoder.ipynb\" target=\"_parent\"><img src=\"https://colab.research.google.com/assets/colab-badge.svg\" alt=\"Open In Colab\"/></a>"
      ]
    },
    {
      "cell_type": "code",
      "execution_count": 8,
      "metadata": {
        "colab": {
          "base_uri": "https://localhost:8080/"
        },
        "id": "gzETCXa5esL8",
        "outputId": "28fd65b7-9776-4df3-d1f1-2524d9ea484c"
      },
      "outputs": [
        {
          "output_type": "stream",
          "name": "stdout",
          "text": [
            "Drive already mounted at /content/drive; to attempt to forcibly remount, call drive.mount(\"/content/drive\", force_remount=True).\n"
          ]
        }
      ],
      "source": [
        "from google.colab import drive\n",
        "drive.mount('/content/drive')"
      ]
    },
    {
      "cell_type": "code",
      "source": [
        "import torch\n",
        "from torch.utils.data import Dataset, DataLoader\n",
        "from torch import nn\n",
        "from torch import optim\n",
        "from torch.utils.tensorboard import SummaryWriter \n",
        "from torchvision import transforms\n",
        "from PIL import Image\n",
        "import numpy as np\n",
        "import matplotlib.pyplot as plt\n",
        "import os\n",
        "import time\n",
        "\n",
        "\n",
        "if torch.cuda.is_available():\n",
        "  device = 'cuda:0'\n",
        "else:\n",
        "  device = 'cpu'"
      ],
      "metadata": {
        "id": "zve6v5RJjUDt"
      },
      "execution_count": null,
      "outputs": []
    },
    {
      "cell_type": "code",
      "source": [
        "if not os.path.isfile(\"/content/voc_test_2007_tar\"):\n",
        "  !cp \"/content/drive/MyDrive/Faster_RCNN/VOCtest_06-Nov-2007.tar\" \"/content/voc_test_2007_tar\" \n",
        "  ! tar -xf \"/content/voc_test_2007_tar\""
      ],
      "metadata": {
        "colab": {
          "base_uri": "https://localhost:8080/"
        },
        "id": "RV61SVEGjU9U",
        "outputId": "852b761d-a82d-40c8-ac1c-545f9fac806b"
      },
      "execution_count": 11,
      "outputs": [
        {
          "output_type": "stream",
          "name": "stdout",
          "text": [
            "cp: cannot stat '/content/drive/MyDrive/Faster_RCNN/VOCtest_06-Nov-2007.tar': No such file or directory\n",
            "tar: /content/voc_test_2007_tar: Cannot open: No such file or directory\n",
            "tar: Error is not recoverable: exiting now\n"
          ]
        }
      ]
    },
    {
      "cell_type": "code",
      "source": [
        "if not os.path.isfile(\"/content/city.zip\"):\n",
        "  !cp \"/content/drive/MyDrive/Inpainting/city.zip\" \"/content/city.zip\" \n",
        "  ! unzip \"/content/city.zip\" -d \"/content/city\"\n",
        "\n",
        "if not os.path.isfile(\"/content/nature.zip\"):\n",
        "  !cp \"/content/drive/MyDrive/Inpainting/nature.zip\" \"/content/nature.zip\" \n",
        "  ! unzip \"/content/nature.zip\" -d \"/content/nature\""
      ],
      "metadata": {
        "id": "eo64e89PjWt9"
      },
      "execution_count": 9,
      "outputs": []
    },
    {
      "cell_type": "code",
      "source": [
        "fig = plt.figure()\n",
        "\n",
        "item = 4\n",
        "original_list = os.listdir(\"/content/VOCdevkit/VOC2012/JPEGImages/\")\n",
        "original_list.sort()\n",
        "original_image = Image.open(\"/content/VOCdevkit/VOC2012/JPEGImages/\"+original_list[item])\n",
        "original_image = original_image.resize((256,256))\n",
        "np_original = np.array(original_image,dtype=np.uint8)/255\n",
        "fig.add_subplot(1,2,1)\n",
        "plt.imshow(np_original)\n",
        "plt.axis('off')\n",
        "\n",
        "\n",
        "seg_image = Image.open(\"/content/VOCdevkit/VOC2012/SegmentationObject/\"+original_list[item][:-3]+\"png\")\n",
        "seg_image = seg_image.resize((256,256))\n",
        "np_seg = np.array(seg_image,dtype=np.uint8)\n",
        "labels = np.unique(np_seg)\n",
        "print(labels)\n",
        "\n",
        "np_seg = np.where(np_seg == labels[1],1.0,0)\n",
        "np_seg = np.stack((np_seg,np_seg,np_seg),axis = 2)\n",
        "print(np_seg.shape)\n",
        "\n",
        "masked_image = (1-np_seg)*np_original + np_seg*(np.zeros_like(np_original)+np.mean(np_original))\n",
        "\n",
        "fig.add_subplot(1,2,2)\n",
        "plt.imshow(masked_image)\n",
        "plt.axis('off')\n",
        "\n",
        "plt.subplots_adjust(wspace=0.1,hspace=0)"
      ],
      "metadata": {
        "id": "-j2USmnplVky",
        "outputId": "2420612f-37af-4af9-fb74-41e7288c7fad",
        "colab": {
          "base_uri": "https://localhost:8080/",
          "height": 303
        }
      },
      "execution_count": 10,
      "outputs": [
        {
          "output_type": "error",
          "ename": "FileNotFoundError",
          "evalue": "ignored",
          "traceback": [
            "\u001b[0;31m---------------------------------------------------------------------------\u001b[0m",
            "\u001b[0;31mFileNotFoundError\u001b[0m                         Traceback (most recent call last)",
            "\u001b[0;32m<ipython-input-10-ae67f86e786b>\u001b[0m in \u001b[0;36m<module>\u001b[0;34m\u001b[0m\n\u001b[1;32m      2\u001b[0m \u001b[0;34m\u001b[0m\u001b[0m\n\u001b[1;32m      3\u001b[0m \u001b[0mitem\u001b[0m \u001b[0;34m=\u001b[0m \u001b[0;36m4\u001b[0m\u001b[0;34m\u001b[0m\u001b[0;34m\u001b[0m\u001b[0m\n\u001b[0;32m----> 4\u001b[0;31m \u001b[0moriginal_list\u001b[0m \u001b[0;34m=\u001b[0m \u001b[0mos\u001b[0m\u001b[0;34m.\u001b[0m\u001b[0mlistdir\u001b[0m\u001b[0;34m(\u001b[0m\u001b[0;34m\"/content/VOCdevkit/VOC2012/JPEGImages/\"\u001b[0m\u001b[0;34m)\u001b[0m\u001b[0;34m\u001b[0m\u001b[0;34m\u001b[0m\u001b[0m\n\u001b[0m\u001b[1;32m      5\u001b[0m \u001b[0moriginal_list\u001b[0m\u001b[0;34m.\u001b[0m\u001b[0msort\u001b[0m\u001b[0;34m(\u001b[0m\u001b[0;34m)\u001b[0m\u001b[0;34m\u001b[0m\u001b[0;34m\u001b[0m\u001b[0m\n\u001b[1;32m      6\u001b[0m \u001b[0moriginal_image\u001b[0m \u001b[0;34m=\u001b[0m \u001b[0mImage\u001b[0m\u001b[0;34m.\u001b[0m\u001b[0mopen\u001b[0m\u001b[0;34m(\u001b[0m\u001b[0;34m\"/content/VOCdevkit/VOC2012/JPEGImages/\"\u001b[0m\u001b[0;34m+\u001b[0m\u001b[0moriginal_list\u001b[0m\u001b[0;34m[\u001b[0m\u001b[0mitem\u001b[0m\u001b[0;34m]\u001b[0m\u001b[0;34m)\u001b[0m\u001b[0;34m\u001b[0m\u001b[0;34m\u001b[0m\u001b[0m\n",
            "\u001b[0;31mFileNotFoundError\u001b[0m: [Errno 2] No such file or directory: '/content/VOCdevkit/VOC2012/JPEGImages/'"
          ]
        },
        {
          "output_type": "display_data",
          "data": {
            "text/plain": [
              "<Figure size 432x288 with 0 Axes>"
            ]
          },
          "metadata": {}
        }
      ]
    }
  ]
}